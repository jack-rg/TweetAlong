{
 "cells": [
  {
   "cell_type": "code",
   "execution_count": 107,
   "metadata": {},
   "outputs": [],
   "source": [
    "import requests\n",
    "import datetime\n",
    "from urllib.parse import urlencode"
   ]
  },
  {
   "cell_type": "code",
   "execution_count": 108,
   "metadata": {},
   "outputs": [],
   "source": [
    "import base64"
   ]
  },
  {
   "cell_type": "code",
   "execution_count": 109,
   "metadata": {},
   "outputs": [],
   "source": [
    "client_id= \"49e92e9173284e27b12af17f66c1f3e6\"\n",
    "client_secret= \"725fc8b1ecdf4d34b5f9598d713a975e\""
   ]
  },
  {
   "cell_type": "code",
   "execution_count": 110,
   "metadata": {},
   "outputs": [],
   "source": [
    "class SpotifyAPI(object):\n",
    "    access_token = None\n",
    "    access_token_expires = datetime.datetime.now()\n",
    "    access_token_did_expire = True\n",
    "    client_id = None\n",
    "    client_secret = None\n",
    "    token_url = \"https://accounts.spotify.com/api/token\"\n",
    "    \n",
    "    def __init__(self, client_id, client_secret, *args, **kwargs):\n",
    "        super().__init__(*args, **kwargs)\n",
    "        self.client_id = client_id\n",
    "        self.client_secret = client_secret\n",
    "\n",
    "    def get_client_credentials(self):\n",
    "        \"\"\"\n",
    "        Returns a base64 encoded string\n",
    "        \"\"\"\n",
    "        client_id = self.client_id\n",
    "        client_secret = self.client_secret\n",
    "        if client_secret == None or client_id == None:\n",
    "            raise Exception(\"You must set client_id and client_secret\")\n",
    "        client_creds = f\"{client_id}:{client_secret}\"\n",
    "        client_creds_b64 = base64.b64encode(client_creds.encode())\n",
    "        return client_creds_b64.decode()\n",
    "    \n",
    "    def get_token_headers(self):\n",
    "        client_creds_b64 = self.get_client_credentials()\n",
    "        return {\n",
    "            \"Authorization\": f\"Basic {client_creds_b64}\"\n",
    "        }\n",
    "    \n",
    "    def get_token_data(self):\n",
    "        return {\n",
    "            \"grant_type\": \"client_credentials\"\n",
    "        } \n",
    "    \n",
    "    def perform_auth(self):\n",
    "        token_url = self.token_url\n",
    "        token_data = self.get_token_data()\n",
    "        token_headers = self.get_token_headers()\n",
    "        r = requests.post(token_url, data=token_data, headers=token_headers)\n",
    "        if r.status_code not in range(200, 299):\n",
    "            raise Exception(\"Could not authenticate client.\")\n",
    "            # return False\n",
    "        data = r.json()\n",
    "        now = datetime.datetime.now()\n",
    "        access_token = data['access_token']\n",
    "        expires_in = data['expires_in'] # seconds\n",
    "        expires = now + datetime.timedelta(seconds=expires_in)\n",
    "        self.access_token = access_token\n",
    "        self.access_token_expires = expires\n",
    "        self.access_token_did_expire = expires < now\n",
    "        return True\n",
    "    \n",
    "    def get_access_token(self):\n",
    "        token = self.access_token\n",
    "        expires = self.access_token_expires\n",
    "        now = datetime.datetime.now()\n",
    "        if expires < now:\n",
    "            self.perform_auth()\n",
    "            return self.get_access_token()\n",
    "        elif token == None:\n",
    "            self.perform_auth()\n",
    "            return self.get_access_token() \n",
    "        return token\n",
    "    \n",
    "  \n",
    "    \n",
    "    def get_episodes(self, _id):\n",
    "        base_url= \"https://api.spotify.com/v1\"\n",
    "        end_point=f\"{base_url}/v1/episodes\"\n",
    "    \n",
    "    def search(self, query, search_type='artist' ): # type\n",
    "        access_token = self.get_access_token()\n",
    "        headers = {\n",
    "            \"Authorization\": f\"Bearer {access_token}\"\n",
    "        }\n",
    "        endpoint = \"https://api.spotify.com/v1/search\"\n",
    "        data = urlencode({\"q\": query, \"type\": search_type.lower()})\n",
    "        lookup_url = f\"{endpoint}?{data}\"\n",
    "        r = requests.get(lookup_url, headers=headers)\n",
    "        if r.status_code not in range(200, 299):  \n",
    "            return {}\n",
    "        return r.json()"
   ]
  },
  {
   "cell_type": "code",
   "execution_count": 111,
   "metadata": {},
   "outputs": [],
   "source": [
    "spotify = SpotifyAPI(client_id, client_secret)"
   ]
  },
  {
   "cell_type": "code",
   "execution_count": 112,
   "metadata": {},
   "outputs": [
    {
     "data": {
      "text/plain": [
       "{'artists': {'href': 'https://api.spotify.com/v1/search?query=joe+rogan&type=artist&offset=0&limit=20',\n",
       "  'items': [{'external_urls': {'spotify': 'https://open.spotify.com/artist/6lrt7LngdzxaQtLIXMraSR'},\n",
       "    'followers': {'href': None, 'total': 206132},\n",
       "    'genres': ['comedy', 'comic'],\n",
       "    'href': 'https://api.spotify.com/v1/artists/6lrt7LngdzxaQtLIXMraSR',\n",
       "    'id': '6lrt7LngdzxaQtLIXMraSR',\n",
       "    'images': [{'height': 1029,\n",
       "      'url': 'https://i.scdn.co/image/9885ca67dbad4bad32928dac938a806e3c821b6f',\n",
       "      'width': 1000},\n",
       "     {'height': 658,\n",
       "      'url': 'https://i.scdn.co/image/2bfc26d33dfea413b462546de85fba3ad5b6405a',\n",
       "      'width': 640},\n",
       "     {'height': 206,\n",
       "      'url': 'https://i.scdn.co/image/c2bede582de646e64890eca2c5267b0ba2890e31',\n",
       "      'width': 200},\n",
       "     {'height': 66,\n",
       "      'url': 'https://i.scdn.co/image/83aaf7e95d9d00160e851f9fc41c182c88787cd9',\n",
       "      'width': 64}],\n",
       "    'name': 'Joe Rogan',\n",
       "    'popularity': 53,\n",
       "    'type': 'artist',\n",
       "    'uri': 'spotify:artist:6lrt7LngdzxaQtLIXMraSR'},\n",
       "   {'external_urls': {'spotify': 'https://open.spotify.com/artist/12X3MeLGRtoS022bKESvYE'},\n",
       "    'followers': {'href': None, 'total': 324},\n",
       "    'genres': [],\n",
       "    'href': 'https://api.spotify.com/v1/artists/12X3MeLGRtoS022bKESvYE',\n",
       "    'id': '12X3MeLGRtoS022bKESvYE',\n",
       "    'images': [{'height': 640,\n",
       "      'url': 'https://i.scdn.co/image/ab67616d0000b2733ae76f0a48ff1c90bf91c009',\n",
       "      'width': 640},\n",
       "     {'height': 300,\n",
       "      'url': 'https://i.scdn.co/image/ab67616d00001e023ae76f0a48ff1c90bf91c009',\n",
       "      'width': 300},\n",
       "     {'height': 64,\n",
       "      'url': 'https://i.scdn.co/image/ab67616d000048513ae76f0a48ff1c90bf91c009',\n",
       "      'width': 64}],\n",
       "    'name': \"Joe Rogan's Final DMT Trip\",\n",
       "    'popularity': 2,\n",
       "    'type': 'artist',\n",
       "    'uri': 'spotify:artist:12X3MeLGRtoS022bKESvYE'}],\n",
       "  'limit': 20,\n",
       "  'next': None,\n",
       "  'offset': 0,\n",
       "  'previous': None,\n",
       "  'total': 2}}"
      ]
     },
     "execution_count": 112,
     "metadata": {},
     "output_type": "execute_result"
    }
   ],
   "source": [
    "spotify.search(\"joe rogan\", search_type=\"artist\")"
   ]
  },
  {
   "cell_type": "code",
   "execution_count": 113,
   "metadata": {},
   "outputs": [],
   "source": [
    "spotify.get_episodes(\"6lrt7LngdzxaQtLIXMraSR\")\n"
   ]
  }
 ],
 "metadata": {
  "kernelspec": {
   "display_name": "Python 3",
   "language": "python",
   "name": "python3"
  },
  "language_info": {
   "codemirror_mode": {
    "name": "ipython",
    "version": 3
   },
   "file_extension": ".py",
   "mimetype": "text/x-python",
   "name": "python",
   "nbconvert_exporter": "python",
   "pygments_lexer": "ipython3",
   "version": "3.7.6"
  }
 },
 "nbformat": 4,
 "nbformat_minor": 4
}
