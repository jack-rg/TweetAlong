{
 "cells": [
  {
   "cell_type": "code",
   "execution_count": 6,
   "metadata": {},
   "outputs": [],
   "source": [
    "import tweepy\n",
    "import webbrowser\n",
    "import time"
   ]
  },
  {
   "cell_type": "code",
   "execution_count": 7,
   "metadata": {},
   "outputs": [
    {
     "name": "stdout",
     "output_type": "stream",
     "text": [
      "What's the pin value? 7294155\n"
     ]
    },
    {
     "data": {
      "text/plain": [
       "('1327194254712524802-HJptimLdp52gGzbosDmoGRSd92Bkse',\n",
       " 'jaJGBbgtA4RXpXmNYh8KURTEFTYSzzLscITtP6g40mgGf')"
      ]
     },
     "execution_count": 7,
     "metadata": {},
     "output_type": "execute_result"
    }
   ],
   "source": [
    "consumer_key = \"Yx2jYekdVXdpc3ZoPAxwJIBoB\"\n",
    "consumer_secret = \"BO74ZhTkQQlpwxkN8bNsKTN6FW5jNC1gAsId0lZLvf9KnmU5i4\"\n",
    "callback_uri = 'oob'\n",
    "auth = tweepy.OAuthHandler(consumer_key, consumer_secret, callback_uri)\n",
    "redirect_url = auth.get_authorization_url()\n",
    "webbrowser.open(redirect_url)\n",
    "user_pint_input = input(\"What's the pin value? \")\n",
    "auth.get_access_token(user_pint_input)"
   ]
  },
  {
   "cell_type": "code",
   "execution_count": 8,
   "metadata": {},
   "outputs": [],
   "source": [
    "api = tweepy.API(auth)"
   ]
  },
  {
   "cell_type": "code",
   "execution_count": 9,
   "metadata": {},
   "outputs": [
    {
     "data": {
      "text/plain": [
       "'MednikovSean'"
      ]
     },
     "execution_count": 9,
     "metadata": {},
     "output_type": "execute_result"
    }
   ],
   "source": [
    "me = api.me()\n",
    "me.screen_name"
   ]
  },
  {
   "cell_type": "code",
   "execution_count": 16,
   "metadata": {},
   "outputs": [
    {
     "name": "stdout",
     "output_type": "stream",
     "text": [
      "KChimaev\n",
      "DanCrenshawTX\n",
      "RitaPanahi\n",
      "esaagar\n",
      "chitoveraUFC\n",
      "Andy_destroyer1\n",
      "danauerbach\n",
      "AndrewYang\n",
      "joerogan\n"
     ]
    }
   ],
   "source": [
    "verified_friends=[]\n",
    "my_friends = me.friends()\n",
    "for friend in my_friends:\n",
    "    if friend.followers_count > 100000:\n",
    "        print(friend.screen_name)\n",
    "        verified_friends.append(friend.screen_name)"
   ]
  },
  {
   "cell_type": "code",
   "execution_count": null,
   "metadata": {},
   "outputs": [],
   "source": []
  }
 ],
 "metadata": {
  "kernelspec": {
   "display_name": "Python 3",
   "language": "python",
   "name": "python3"
  },
  "language_info": {
   "codemirror_mode": {
    "name": "ipython",
    "version": 3
   },
   "file_extension": ".py",
   "mimetype": "text/x-python",
   "name": "python",
   "nbconvert_exporter": "python",
   "pygments_lexer": "ipython3",
   "version": "3.8.2"
  }
 },
 "nbformat": 4,
 "nbformat_minor": 4
}
