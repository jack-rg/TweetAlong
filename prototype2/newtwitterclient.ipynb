{
 "cells": [
  {
   "cell_type": "code",
   "execution_count": 1,
   "metadata": {},
   "outputs": [
    {
     "name": "stdout",
     "output_type": "stream",
     "text": [
      "KChimaev\n",
      "DanCrenshawTX\n",
      "RitaPanahi\n",
      "esaagar\n",
      "chitoveraUFC\n",
      "Andy_destroyer1\n",
      "danauerbach\n",
      "AndrewYang\n",
      "joerogan\n"
     ]
    }
   ],
   "source": [
    "import tweepy\n",
    "consumer_key = \"Yx2jYekdVXdpc3ZoPAxwJIBoB\"\n",
    "consumer_secret = \"BO74ZhTkQQlpwxkN8bNsKTN6FW5jNC1gAsId0lZLvf9KnmU5i4\"\n",
    "twitter_auth_keys = {\n",
    "        \"consumer_key\": \"Yx2jYekdVXdpc3ZoPAxwJIBoB\",\n",
    "        \"consumer_secret\": \"BO74ZhTkQQlpwxkN8bNsKTN6FW5jNC1gAsId0lZLvf9KnmU5i4\",\n",
    "        \"access_token\": \"1327194254712524802-yVjoPP9xNy3oEOJzLjaO3NQTHv1gro\",\n",
    "        \"access_token_secret\": \"7uqfMuSbyK6GsgG7QOF7qPqO1CQ8zxaYM0M000367DTSK\"\n",
    "    }\n",
    "\n",
    "auth = tweepy.OAuthHandler(\n",
    "    twitter_auth_keys['consumer_key'],\n",
    "    twitter_auth_keys['consumer_secret']\n",
    ")\n",
    "auth.set_access_token(\n",
    "    twitter_auth_keys['access_token'],\n",
    "    twitter_auth_keys['access_token_secret']\n",
    ")\n",
    "api = tweepy.API(auth)\n",
    "    \n",
    "\n",
    "\n",
    "me = api.me()\n",
    "\n",
    "verified_friends=[]\n",
    "my_friends = me.friends()\n",
    "for friend in my_friends:\n",
    "    if friend.followers_count > 100000:\n",
    "        print(friend.screen_name)\n",
    "        verified_friends.append(friend.screen_name)"
   ]
  },
  {
   "cell_type": "code",
   "execution_count": null,
   "metadata": {},
   "outputs": [],
   "source": []
  }
 ],
 "metadata": {
  "kernelspec": {
   "display_name": "Python 3",
   "language": "python",
   "name": "python3"
  },
  "language_info": {
   "codemirror_mode": {
    "name": "ipython",
    "version": 3
   },
   "file_extension": ".py",
   "mimetype": "text/x-python",
   "name": "python",
   "nbconvert_exporter": "python",
   "pygments_lexer": "ipython3",
   "version": "3.8.2"
  }
 },
 "nbformat": 4,
 "nbformat_minor": 4
}
